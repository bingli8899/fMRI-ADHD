{
 "cells": [
  {
   "cell_type": "code",
   "execution_count": 3,
   "id": "d388ced7",
   "metadata": {},
   "outputs": [],
   "source": [
    "import os \n",
    "import pandas as pd\n",
    "import utility as ut\n",
    "import numpy as np\n",
    "from sklearn.impute import KNNImputer\n",
    "from sklearn.preprocessing import OneHotEncoder, StandardScaler\n"
   ]
  },
  {
   "cell_type": "code",
   "execution_count": 4,
   "id": "81db5848",
   "metadata": {},
   "outputs": [
    {
     "name": "stdout",
     "output_type": "stream",
     "text": [
      "loading /Users/bingli/Documents/GitHub/fMRI-AHDH/data/TRAIN/TRAIN_QUANTITATIVE_METADATA.xlsx\n",
      "loading /Users/bingli/Documents/GitHub/fMRI-AHDH/data/TRAIN/TRAINING_SOLUTIONS.xlsx\n",
      "loading /Users/bingli/Documents/GitHub/fMRI-AHDH/data/TRAIN/TRAIN_CATEGORICAL_METADATA.xlsx\n",
      "loading /Users/bingli/Documents/GitHub/fMRI-AHDH/data/TRAIN/TRAIN_FUNCTIONAL_CONNECTOME_MATRICES.csv\n",
      "loading /Users/bingli/Documents/GitHub/fMRI-AHDH/data/TEST/TEST_CATEGORICAL.xlsx\n",
      "loading /Users/bingli/Documents/GitHub/fMRI-AHDH/data/TEST/TEST_FUNCTIONAL_CONNECTOME_MATRICES.csv\n",
      "loading /Users/bingli/Documents/GitHub/fMRI-AHDH/data/TEST/TEST_QUANTITATIVE_METADATA.xlsx\n"
     ]
    }
   ],
   "source": [
    "# rootfolder = Path.cwd() \n",
    "rootfolder = \"/Users/bingli/Documents/GitHub/fMRI-AHDH\"\n",
    "traindatafolder = os.path.join(rootfolder, \"data\",\"TRAIN\")\n",
    "train_data_lst = ut.load_train_data(traindatafolder)\n",
    "testdatafolder = os.path.join(rootfolder, \"data\",\"TEST\")\n",
    "test_data_dic = ut.load_test_data(testdatafolder)\n",
    "\n",
    "train_quant = train_data_lst[\"train_quant\"]\n",
    "train_outcome = train_data_lst[\"train_outcome\"]\n",
    "train_cate = train_data_lst[\"train_cate\"]\n",
    "train_fmri = train_data_lst[\"train_fmri\"]\n",
    "\n",
    "test_quant = test_data_dic[\"test_quant\"]\n",
    "test_cate = test_data_dic[\"test_cate\"]\n",
    "test_fmri = test_data_dic[\"test_fmri\"]"
   ]
  },
  {
   "cell_type": "code",
   "execution_count": 8,
   "id": "fac2b932",
   "metadata": {},
   "outputs": [
    {
     "name": "stdout",
     "output_type": "stream",
     "text": [
      "Index(['participant_id', 'Basic_Demos_Enroll_Year', 'Basic_Demos_Study_Site',\n",
      "       'PreInt_Demos_Fam_Child_Ethnicity', 'PreInt_Demos_Fam_Child_Race',\n",
      "       'MRI_Track_Scan_Location', 'Barratt_Barratt_P1_Edu',\n",
      "       'Barratt_Barratt_P1_Occ', 'Barratt_Barratt_P2_Edu',\n",
      "       'Barratt_Barratt_P2_Occ'],\n",
      "      dtype='object')\n",
      "Index(['participant_id', 'EHQ_EHQ_Total', 'ColorVision_CV_Score',\n",
      "       'APQ_P_APQ_P_CP', 'APQ_P_APQ_P_ID', 'APQ_P_APQ_P_INV',\n",
      "       'APQ_P_APQ_P_OPD', 'APQ_P_APQ_P_PM', 'APQ_P_APQ_P_PP',\n",
      "       'SDQ_SDQ_Conduct_Problems', 'SDQ_SDQ_Difficulties_Total',\n",
      "       'SDQ_SDQ_Emotional_Problems', 'SDQ_SDQ_Externalizing',\n",
      "       'SDQ_SDQ_Generating_Impact', 'SDQ_SDQ_Hyperactivity',\n",
      "       'SDQ_SDQ_Internalizing', 'SDQ_SDQ_Peer_Problems', 'SDQ_SDQ_Prosocial',\n",
      "       'MRI_Track_Age_at_Scan'],\n",
      "      dtype='object')\n"
     ]
    }
   ],
   "source": [
    "cate_cols = train_cate.columns \n",
    "print(cate_cols) \n",
    "quant_col = train_quant.columns\n",
    "print(quant_col)"
   ]
  },
  {
   "cell_type": "code",
   "execution_count": 12,
   "id": "b4c22f36",
   "metadata": {},
   "outputs": [],
   "source": [
    "ordinal_var = ['Barratt_Barratt_P1_Edu', 'Barratt_Barratt_P1_Occ', \n",
    "               'Barratt_Barratt_P2_Edu', 'Barratt_Barratt_P2_Occ',\n",
    "              'Basic_Demos_Enroll_Year']\n",
    "categ_var = ['Basic_Demos_Study_Site', 'PreInt_Demos_Fam_Child_Ethnicity',\n",
    "             'PreInt_Demos_Fam_Child_Race', 'MRI_Track_Scan_Location'] \n",
    "quant_var = quant_col[1:]"
   ]
  },
  {
   "cell_type": "code",
   "execution_count": null,
   "id": "9d698763",
   "metadata": {},
   "outputs": [],
   "source": []
  }
 ],
 "metadata": {
  "kernelspec": {
   "display_name": "Python 3 (ipykernel)",
   "language": "python",
   "name": "python3"
  },
  "language_info": {
   "codemirror_mode": {
    "name": "ipython",
    "version": 3
   },
   "file_extension": ".py",
   "mimetype": "text/x-python",
   "name": "python",
   "nbconvert_exporter": "python",
   "pygments_lexer": "ipython3",
   "version": "3.9.18"
  }
 },
 "nbformat": 4,
 "nbformat_minor": 5
}

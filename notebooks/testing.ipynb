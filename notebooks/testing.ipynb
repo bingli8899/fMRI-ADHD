{
 "cells": [
  {
   "cell_type": "code",
   "execution_count": 5,
   "id": "d388ced7",
   "metadata": {},
   "outputs": [],
   "source": [
    "import os \n",
    "import sys\n",
    "import pandas as pd\n",
    "import numpy as np\n",
    "from sklearn.impute import KNNImputer\n",
    "from sklearn.preprocessing import OneHotEncoder, StandardScaler\n",
    "\n",
    "rootfolder = \"/Users/bingli/Documents/GitHub/fMRI-AHDH\" # rootpath --> top of git repo\n",
    "sys.path.append(os.path.join(rootfolder))\n",
    "\n",
    "from src.data.data_loader import load_data\n",
    "import src.utility.ut_general as ut_general\n",
    "import src.utility.ut_stats as ut_stats \n",
    "\n",
    "# rootfolder = Path.cwd() \n",
    "datafolder = os.path.join(rootfolder, \"data\")\n"
   ]
  },
  {
   "cell_type": "code",
   "execution_count": 7,
   "id": "841c61a3",
   "metadata": {},
   "outputs": [],
   "source": [
    "# Load test data: \n",
    "test_data_dic = load_data(datafolder, filetype = \"test\")\n",
    "test_quant = test_data_dic[\"test_quant\"]\n",
    "test_cate = test_data_dic[\"test_cate\"]\n",
    "test_fmri = test_data_dic[\"test_fmri\"]"
   ]
  },
  {
   "cell_type": "code",
   "execution_count": 9,
   "id": "f0801a1f",
   "metadata": {},
   "outputs": [],
   "source": [
    "# Load trainning data: \n",
    "train_data_dic = load_data(datafolder, filetype = \"train\") \n",
    "train_quant = train_data_dic[\"train_quant\"]\n",
    "train_outcome = train_data_dic[\"train_outcome\"]\n",
    "train_cate = train_data_dic[\"train_cate\"]\n",
    "train_fmri = train_data_dic[\"train_fmri\"] "
   ]
  },
  {
   "cell_type": "code",
   "execution_count": 12,
   "id": "fac2b932",
   "metadata": {},
   "outputs": [
    {
     "name": "stdout",
     "output_type": "stream",
     "text": [
      "Index(['participant_id', 'Basic_Demos_Enroll_Year', 'Basic_Demos_Study_Site',\n",
      "       'PreInt_Demos_Fam_Child_Ethnicity', 'PreInt_Demos_Fam_Child_Race',\n",
      "       'MRI_Track_Scan_Location', 'Barratt_Barratt_P1_Edu',\n",
      "       'Barratt_Barratt_P1_Occ', 'Barratt_Barratt_P2_Edu',\n",
      "       'Barratt_Barratt_P2_Occ'],\n",
      "      dtype='object')\n",
      "Index(['participant_id', 'EHQ_EHQ_Total', 'ColorVision_CV_Score',\n",
      "       'APQ_P_APQ_P_CP', 'APQ_P_APQ_P_ID', 'APQ_P_APQ_P_INV',\n",
      "       'APQ_P_APQ_P_OPD', 'APQ_P_APQ_P_PM', 'APQ_P_APQ_P_PP',\n",
      "       'SDQ_SDQ_Conduct_Problems', 'SDQ_SDQ_Difficulties_Total',\n",
      "       'SDQ_SDQ_Emotional_Problems', 'SDQ_SDQ_Externalizing',\n",
      "       'SDQ_SDQ_Generating_Impact', 'SDQ_SDQ_Hyperactivity',\n",
      "       'SDQ_SDQ_Internalizing', 'SDQ_SDQ_Peer_Problems', 'SDQ_SDQ_Prosocial',\n",
      "       'MRI_Track_Age_at_Scan'],\n",
      "      dtype='object')\n"
     ]
    }
   ],
   "source": [
    "cate_cols = train_cate.columns \n",
    "print(cate_cols) \n",
    "quant_col = train_quant.columns\n",
    "print(quant_col)"
   ]
  },
  {
   "cell_type": "code",
   "execution_count": 15,
   "id": "baf3423e",
   "metadata": {},
   "outputs": [
    {
     "data": {
      "text/plain": [
       "{2015, 2016, 2017, 2018, 2019, 2020}"
      ]
     },
     "execution_count": 15,
     "metadata": {},
     "output_type": "execute_result"
    }
   ],
   "source": [
    "set(train_cate['Basic_Demos_Enroll_Year']) # from 2015 to 2020 \n",
    "# Should this be treated as quantatitive or ordinal?"
   ]
  },
  {
   "cell_type": "code",
   "execution_count": 17,
   "id": "b4c22f36",
   "metadata": {},
   "outputs": [
    {
     "name": "stdout",
     "output_type": "stream",
     "text": [
      "Index(['EHQ_EHQ_Total', 'ColorVision_CV_Score', 'APQ_P_APQ_P_CP',\n",
      "       'APQ_P_APQ_P_ID', 'APQ_P_APQ_P_INV', 'APQ_P_APQ_P_OPD',\n",
      "       'APQ_P_APQ_P_PM', 'APQ_P_APQ_P_PP', 'SDQ_SDQ_Conduct_Problems',\n",
      "       'SDQ_SDQ_Difficulties_Total', 'SDQ_SDQ_Emotional_Problems',\n",
      "       'SDQ_SDQ_Externalizing', 'SDQ_SDQ_Generating_Impact',\n",
      "       'SDQ_SDQ_Hyperactivity', 'SDQ_SDQ_Internalizing',\n",
      "       'SDQ_SDQ_Peer_Problems', 'SDQ_SDQ_Prosocial', 'MRI_Track_Age_at_Scan'],\n",
      "      dtype='object')\n"
     ]
    }
   ],
   "source": [
    "ordinal_var = ['Barratt_Barratt_P1_Edu', 'Barratt_Barratt_P1_Occ', \n",
    "               'Barratt_Barratt_P2_Edu', 'Barratt_Barratt_P2_Occ',\n",
    "              'Basic_Demos_Enroll_Year']\n",
    "categ_var = ['Basic_Demos_Study_Site', 'PreInt_Demos_Fam_Child_Ethnicity',\n",
    "             'PreInt_Demos_Fam_Child_Race', 'MRI_Track_Scan_Location'] \n",
    "quant_var = quant_col[1:]\n",
    "print(quant_var)"
   ]
  },
  {
   "cell_type": "code",
   "execution_count": null,
   "id": "9d698763",
   "metadata": {},
   "outputs": [],
   "source": []
  }
 ],
 "metadata": {
  "kernelspec": {
   "display_name": "Python 3 (ipykernel)",
   "language": "python",
   "name": "python3"
  },
  "language_info": {
   "codemirror_mode": {
    "name": "ipython",
    "version": 3
   },
   "file_extension": ".py",
   "mimetype": "text/x-python",
   "name": "python",
   "nbconvert_exporter": "python",
   "pygments_lexer": "ipython3",
   "version": "3.9.18"
  }
 },
 "nbformat": 4,
 "nbformat_minor": 5
}

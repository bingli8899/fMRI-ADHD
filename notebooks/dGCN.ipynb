{
 "cells": [
  {
   "cell_type": "code",
   "execution_count": 1,
   "metadata": {},
   "outputs": [],
   "source": [
    "import sys \n",
    "import os\n",
    "import pandas as pd  \n",
    "from pathlib import Path  \n",
    "import matplotlib.pyplot as plt\n",
    "import numpy as np\n",
    "from scipy.stats import shapiro\n",
    "from pathlib import Path\n",
    "import glob\n",
    "import numpy as np\n",
    "import tensorflow as tf\n",
    "from tensorflow import keras\n",
    "from tensorflow.keras import layers\n",
    "from tensorflow.keras.models import Model\n",
    "from sklearn.preprocessing import StandardScaler, OneHotEncoder\n",
    "from sklearn.model_selection import train_test_split"
   ]
  },
  {
   "cell_type": "code",
   "execution_count": 2,
   "metadata": {},
   "outputs": [],
   "source": [
    "rootfolder = os.path.abspath(os.path.join(Path.cwd(), \"..\")) # rootpath --> top of git repo\n",
    "# Change the above if you are not in $root/notebook/\n",
    "sys.path.append(os.path.join(rootfolder))\n",
    "\n",
    "from src.data.data_loader import load_data\n",
    "\n",
    "datafolder = os.path.join(rootfolder, \"data\")\n",
    "\n",
    "# Load data\n",
    "train_data_dic = load_data(datafolder, filetype = \"train\") \n",
    "train_quant = train_data_dic[\"train_quant\"]\n",
    "train_outcome = train_data_dic[\"train_outcome\"]\n",
    "train_cate = train_data_dic[\"train_cate\"]\n",
    "train_fmri = train_data_dic[\"train_fmri\"]\n",
    "\n",
    "test_data_dic = load_data(datafolder, filetype = \"test\")\n",
    "test_quant = test_data_dic[\"test_quant\"]\n",
    "test_cate = test_data_dic[\"test_cate\"]\n",
    "test_fmri = test_data_dic[\"test_fmri\"]"
   ]
  },
  {
   "cell_type": "code",
   "execution_count": 3,
   "metadata": {},
   "outputs": [],
   "source": [
    "# Deal with fMRI matrix\n",
    "# fmri: the fMRI matrix which will be processed\n",
    "# @returns participant_id: the sequence of participant id in fMRI matrix\n",
    "# @returns fmri_matrices: the after pre-process fMRI matrix with 1213 * 200 * 200\n",
    "def convert_fMRI(fmri):\n",
    "    num_patients = 1213\n",
    "    num_regions = 200\n",
    "    fmri_matrices = np.zeros((num_patients, num_regions, num_regions))\n",
    "    participant_id = fmri.iloc[:, 0]\n",
    "    fmri_values = fmri.iloc[:, 1:].astype(float)\n",
    "\n",
    "    col_index = 0\n",
    "    for i in range(num_regions):\n",
    "        for j in range(i + 1, num_regions):\n",
    "            fmri_matrices[:, i, j] = fmri_values.iloc[:, col_index]\n",
    "            fmri_matrices[:, j, i] = fmri_values.iloc[:, col_index]\n",
    "            col_index += 1\n",
    "\n",
    "    for i in range(num_regions):\n",
    "        fmri_matrices[:, i, i] = 1.0\n",
    "    \n",
    "    return participant_id, fmri_matrices\n"
   ]
  },
  {
   "cell_type": "code",
   "execution_count": 4,
   "metadata": {},
   "outputs": [],
   "source": [
    "train_participant_id, train_fmri_matrices = convert_fMRI(train_fmri)"
   ]
  },
  {
   "cell_type": "code",
   "execution_count": 5,
   "metadata": {},
   "outputs": [],
   "source": [
    "# Preprocess the train outcome\n",
    "# data: data to be preprocessed\n",
    "# id: participant_id\n",
    "# @returns outcome (the dataset in the order of the participant id in fMRI)\n",
    "def preprocess(data, id):\n",
    "    outcome = data.set_index(\"participant_id\")\n",
    "    outcome = outcome.loc[id]\n",
    "    return np.array(outcome)"
   ]
  },
  {
   "cell_type": "code",
   "execution_count": 6,
   "metadata": {},
   "outputs": [],
   "source": [
    "train_outcome_ordered = preprocess(train_outcome, train_participant_id)\n",
    "train_ADHD_outcome = train_outcome_ordered[:, 0]\n",
    "\n",
    "train_quant_ordered = preprocess(train_quant, train_participant_id)\n",
    "train_cate_ordered = preprocess(train_cate, train_participant_id)"
   ]
  },
  {
   "cell_type": "code",
   "execution_count": 7,
   "metadata": {},
   "outputs": [
    {
     "name": "stdout",
     "output_type": "stream",
     "text": [
      "(1213, 200, 200, 1)\n",
      "(1213,)\n",
      "(1213, 18)\n",
      "(1213, 9)\n"
     ]
    }
   ],
   "source": [
    "train_fmri_matrices = train_fmri_matrices[..., np.newaxis]\n",
    "\n",
    "print(train_fmri_matrices.shape)\n",
    "print(train_ADHD_outcome.shape)\n",
    "print(train_quant_ordered.shape)\n",
    "print(train_cate_ordered.shape)"
   ]
  },
  {
   "cell_type": "code",
   "execution_count": 10,
   "metadata": {},
   "outputs": [],
   "source": [
    "# CNN for fMRI\n",
    "input_fmri = keras.Input(shape=(200, 200, 1), name = \"fMRI_input\")\n",
    "x = layers.Conv2D(32, (3,3), activation=\"relu\", padding=\"same\")(input_fmri)\n",
    "x = layers.MaxPooling2D((2,2))(x)\n",
    "x = layers.Conv2D(64, (3,3), activation=\"relu\", padding=\"same\")(x)\n",
    "x = layers.MaxPooling2D((2,2))(x)\n",
    "x = layers.Conv2D(128, (3,3), activation=\"relu\", padding=\"same\")(x)\n",
    "x = layers.MaxPooling2D((2,2))(x)\n",
    "x = layers.Flatten()(x)\n",
    "x = layers.Dense(128, activation=\"relu\")(x)\n",
    "x = layers.Dropout(0.5)(x)\n",
    "\n",
    "# MLP for Quantitative\n",
    "input_quant = keras.Input(shape=(train_quant_ordered.shape[1],), name = \"Quant_input\")\n",
    "q = layers.Dense(64, activation=\"relu\")(input_quant)\n",
    "q = layers.Dense(32, activation=\"relu\")(q)\n",
    "\n",
    "# MLP for Categorical\n",
    "input_cate = keras.Input(shape=(train_cate_ordered.shape[1],), name = \"Cate_input\")\n",
    "c = layers.Dense(64, activation=\"relu\")(input_cate)\n",
    "c = layers.Dense(32, activation=\"relu\")(c)\n",
    "\n",
    "# Combine CNN and MLP\n",
    "merged = layers.concatenate([x, q, c])\n",
    "merged = layers.Dense(128, activation=\"relu\")(merged)\n",
    "merged = layers.Dropout(0.5)(merged)\n",
    "output = layers.Dense(1, activation=\"sigmoid\", name = \"output\")(merged)\n",
    "\n",
    "model = keras.Model(inputs=[input_fmri, input_quant, input_cate], outputs = output)\n",
    "\n",
    "model.compile(optimizer=\"adam\", loss=\"binary_crossentropy\", metrics = [\"accuracy\"])"
   ]
  },
  {
   "cell_type": "code",
   "execution_count": 11,
   "metadata": {},
   "outputs": [
    {
     "name": "stdout",
     "output_type": "stream",
     "text": [
      "Epoch 1/20\n",
      "\u001b[1m31/31\u001b[0m \u001b[32m━━━━━━━━━━━━━━━━━━━━\u001b[0m\u001b[37m\u001b[0m \u001b[1m11s\u001b[0m 317ms/step - accuracy: 0.3345 - loss: nan - val_accuracy: 0.3333 - val_loss: nan\n",
      "Epoch 2/20\n",
      "\u001b[1m31/31\u001b[0m \u001b[32m━━━━━━━━━━━━━━━━━━━━\u001b[0m\u001b[37m\u001b[0m \u001b[1m10s\u001b[0m 310ms/step - accuracy: 0.3115 - loss: nan - val_accuracy: 0.3333 - val_loss: nan\n",
      "Epoch 3/20\n",
      "\u001b[1m31/31\u001b[0m \u001b[32m━━━━━━━━━━━━━━━━━━━━\u001b[0m\u001b[37m\u001b[0m \u001b[1m9s\u001b[0m 307ms/step - accuracy: 0.3281 - loss: nan - val_accuracy: 0.3333 - val_loss: nan\n",
      "Epoch 4/20\n",
      "\u001b[1m31/31\u001b[0m \u001b[32m━━━━━━━━━━━━━━━━━━━━\u001b[0m\u001b[37m\u001b[0m \u001b[1m9s\u001b[0m 306ms/step - accuracy: 0.3186 - loss: nan - val_accuracy: 0.3333 - val_loss: nan\n",
      "Epoch 5/20\n",
      "\u001b[1m31/31\u001b[0m \u001b[32m━━━━━━━━━━━━━━━━━━━━\u001b[0m\u001b[37m\u001b[0m \u001b[1m9s\u001b[0m 305ms/step - accuracy: 0.3161 - loss: nan - val_accuracy: 0.3333 - val_loss: nan\n",
      "Epoch 6/20\n",
      "\u001b[1m31/31\u001b[0m \u001b[32m━━━━━━━━━━━━━━━━━━━━\u001b[0m\u001b[37m\u001b[0m \u001b[1m9s\u001b[0m 301ms/step - accuracy: 0.3014 - loss: nan - val_accuracy: 0.3333 - val_loss: nan\n",
      "Epoch 7/20\n",
      "\u001b[1m31/31\u001b[0m \u001b[32m━━━━━━━━━━━━━━━━━━━━\u001b[0m\u001b[37m\u001b[0m \u001b[1m11s\u001b[0m 343ms/step - accuracy: 0.2878 - loss: nan - val_accuracy: 0.3333 - val_loss: nan\n",
      "Epoch 8/20\n",
      "\u001b[1m31/31\u001b[0m \u001b[32m━━━━━━━━━━━━━━━━━━━━\u001b[0m\u001b[37m\u001b[0m \u001b[1m10s\u001b[0m 313ms/step - accuracy: 0.2894 - loss: nan - val_accuracy: 0.3333 - val_loss: nan\n",
      "Epoch 9/20\n",
      "\u001b[1m31/31\u001b[0m \u001b[32m━━━━━━━━━━━━━━━━━━━━\u001b[0m\u001b[37m\u001b[0m \u001b[1m10s\u001b[0m 310ms/step - accuracy: 0.3146 - loss: nan - val_accuracy: 0.3333 - val_loss: nan\n",
      "Epoch 10/20\n",
      "\u001b[1m31/31\u001b[0m \u001b[32m━━━━━━━━━━━━━━━━━━━━\u001b[0m\u001b[37m\u001b[0m \u001b[1m10s\u001b[0m 310ms/step - accuracy: 0.3252 - loss: nan - val_accuracy: 0.3333 - val_loss: nan\n",
      "Epoch 11/20\n",
      "\u001b[1m31/31\u001b[0m \u001b[32m━━━━━━━━━━━━━━━━━━━━\u001b[0m\u001b[37m\u001b[0m \u001b[1m9s\u001b[0m 306ms/step - accuracy: 0.3069 - loss: nan - val_accuracy: 0.3333 - val_loss: nan\n",
      "Epoch 12/20\n",
      "\u001b[1m31/31\u001b[0m \u001b[32m━━━━━━━━━━━━━━━━━━━━\u001b[0m\u001b[37m\u001b[0m \u001b[1m9s\u001b[0m 306ms/step - accuracy: 0.3002 - loss: nan - val_accuracy: 0.3333 - val_loss: nan\n",
      "Epoch 13/20\n",
      "\u001b[1m31/31\u001b[0m \u001b[32m━━━━━━━━━━━━━━━━━━━━\u001b[0m\u001b[37m\u001b[0m \u001b[1m10s\u001b[0m 308ms/step - accuracy: 0.2829 - loss: nan - val_accuracy: 0.3333 - val_loss: nan\n",
      "Epoch 14/20\n",
      "\u001b[1m31/31\u001b[0m \u001b[32m━━━━━━━━━━━━━━━━━━━━\u001b[0m\u001b[37m\u001b[0m \u001b[1m10s\u001b[0m 309ms/step - accuracy: 0.3123 - loss: nan - val_accuracy: 0.3333 - val_loss: nan\n",
      "Epoch 15/20\n",
      "\u001b[1m31/31\u001b[0m \u001b[32m━━━━━━━━━━━━━━━━━━━━\u001b[0m\u001b[37m\u001b[0m \u001b[1m9s\u001b[0m 305ms/step - accuracy: 0.2933 - loss: nan - val_accuracy: 0.3333 - val_loss: nan\n",
      "Epoch 16/20\n",
      "\u001b[1m31/31\u001b[0m \u001b[32m━━━━━━━━━━━━━━━━━━━━\u001b[0m\u001b[37m\u001b[0m \u001b[1m9s\u001b[0m 301ms/step - accuracy: 0.3013 - loss: nan - val_accuracy: 0.3333 - val_loss: nan\n",
      "Epoch 17/20\n",
      "\u001b[1m31/31\u001b[0m \u001b[32m━━━━━━━━━━━━━━━━━━━━\u001b[0m\u001b[37m\u001b[0m \u001b[1m9s\u001b[0m 303ms/step - accuracy: 0.2997 - loss: nan - val_accuracy: 0.3333 - val_loss: nan\n",
      "Epoch 18/20\n",
      "\u001b[1m31/31\u001b[0m \u001b[32m━━━━━━━━━━━━━━━━━━━━\u001b[0m\u001b[37m\u001b[0m \u001b[1m9s\u001b[0m 303ms/step - accuracy: 0.3277 - loss: nan - val_accuracy: 0.3333 - val_loss: nan\n",
      "Epoch 19/20\n",
      "\u001b[1m31/31\u001b[0m \u001b[32m━━━━━━━━━━━━━━━━━━━━\u001b[0m\u001b[37m\u001b[0m \u001b[1m9s\u001b[0m 301ms/step - accuracy: 0.3123 - loss: nan - val_accuracy: 0.3333 - val_loss: nan\n",
      "Epoch 20/20\n",
      "\u001b[1m31/31\u001b[0m \u001b[32m━━━━━━━━━━━━━━━━━━━━\u001b[0m\u001b[37m\u001b[0m \u001b[1m9s\u001b[0m 303ms/step - accuracy: 0.3069 - loss: nan - val_accuracy: 0.3333 - val_loss: nan\n"
     ]
    }
   ],
   "source": [
    "history = model.fit(\n",
    "    [train_fmri_matrices, train_quant_ordered, train_cate_ordered], train_ADHD_outcome,\n",
    "    epochs = 20,\n",
    "    batch_size = 32,\n",
    "    validation_split = 0.2\n",
    ")"
   ]
  },
  {
   "cell_type": "code",
   "execution_count": 13,
   "metadata": {},
   "outputs": [
    {
     "name": "stderr",
     "output_type": "stream",
     "text": [
      "/opt/miniconda3/lib/python3.12/site-packages/keras/src/layers/convolutional/base_conv.py:107: UserWarning: Do not pass an `input_shape`/`input_dim` argument to a layer. When using Sequential models, prefer using an `Input(shape)` object as the first layer in the model instead.\n",
      "  super().__init__(activity_regularizer=activity_regularizer, **kwargs)\n"
     ]
    }
   ],
   "source": [
    "model2 = keras.Sequential([\n",
    "    layers.Conv2D(32, (3,3), activation=\"relu\", padding=\"same\", input_shape=(200, 200, 1)),\n",
    "    layers.MaxPooling2D((2,2)),\n",
    "\n",
    "    layers.Conv2D(64, (3,3), activation=\"relu\", padding=\"same\"),\n",
    "    layers.MaxPooling2D((2,2)),\n",
    "\n",
    "    layers.Conv2D(128, (3,3), activation=\"relu\", padding=\"same\"),\n",
    "    layers.MaxPooling2D((2,2)),\n",
    "\n",
    "    layers.Flatten(),\n",
    "    layers.Dense(128, activation=\"relu\"),\n",
    "    layers.Dropout(0.5),\n",
    "    layers.Dense(1, activation=\"sigmoid\")\n",
    "])\n",
    "\n",
    "model2.compile(optimizer=\"adam\", loss=\"binary_crossentropy\", metrics = [\"accuracy\"])"
   ]
  },
  {
   "cell_type": "code",
   "execution_count": 14,
   "metadata": {},
   "outputs": [
    {
     "name": "stdout",
     "output_type": "stream",
     "text": [
      "Epoch 1/20\n",
      "\u001b[1m31/31\u001b[0m \u001b[32m━━━━━━━━━━━━━━━━━━━━\u001b[0m\u001b[37m\u001b[0m \u001b[1m11s\u001b[0m 352ms/step - accuracy: 0.6867 - loss: 0.6515 - val_accuracy: 0.6667 - val_loss: 0.6363\n",
      "Epoch 2/20\n",
      "\u001b[1m31/31\u001b[0m \u001b[32m━━━━━━━━━━━━━━━━━━━━\u001b[0m\u001b[37m\u001b[0m \u001b[1m10s\u001b[0m 319ms/step - accuracy: 0.6979 - loss: 0.6295 - val_accuracy: 0.6667 - val_loss: 0.6392\n",
      "Epoch 3/20\n",
      "\u001b[1m31/31\u001b[0m \u001b[32m━━━━━━━━━━━━━━━━━━━━\u001b[0m\u001b[37m\u001b[0m \u001b[1m10s\u001b[0m 312ms/step - accuracy: 0.6939 - loss: 0.6185 - val_accuracy: 0.6667 - val_loss: 0.6438\n",
      "Epoch 4/20\n",
      "\u001b[1m31/31\u001b[0m \u001b[32m━━━━━━━━━━━━━━━━━━━━\u001b[0m\u001b[37m\u001b[0m \u001b[1m10s\u001b[0m 309ms/step - accuracy: 0.6792 - loss: 0.6425 - val_accuracy: 0.6667 - val_loss: 0.6348\n",
      "Epoch 5/20\n",
      "\u001b[1m31/31\u001b[0m \u001b[32m━━━━━━━━━━━━━━━━━━━━\u001b[0m\u001b[37m\u001b[0m \u001b[1m11s\u001b[0m 343ms/step - accuracy: 0.6992 - loss: 0.6158 - val_accuracy: 0.6667 - val_loss: 0.6354\n",
      "Epoch 6/20\n",
      "\u001b[1m31/31\u001b[0m \u001b[32m━━━━━━━━━━━━━━━━━━━━\u001b[0m\u001b[37m\u001b[0m \u001b[1m10s\u001b[0m 316ms/step - accuracy: 0.6879 - loss: 0.6343 - val_accuracy: 0.6667 - val_loss: 0.6358\n",
      "Epoch 7/20\n",
      "\u001b[1m31/31\u001b[0m \u001b[32m━━━━━━━━━━━━━━━━━━━━\u001b[0m\u001b[37m\u001b[0m \u001b[1m9s\u001b[0m 297ms/step - accuracy: 0.6799 - loss: 0.6324 - val_accuracy: 0.6667 - val_loss: 0.6356\n",
      "Epoch 8/20\n",
      "\u001b[1m31/31\u001b[0m \u001b[32m━━━━━━━━━━━━━━━━━━━━\u001b[0m\u001b[37m\u001b[0m \u001b[1m9s\u001b[0m 298ms/step - accuracy: 0.6832 - loss: 0.6299 - val_accuracy: 0.6667 - val_loss: 0.6919\n",
      "Epoch 9/20\n",
      "\u001b[1m31/31\u001b[0m \u001b[32m━━━━━━━━━━━━━━━━━━━━\u001b[0m\u001b[37m\u001b[0m \u001b[1m9s\u001b[0m 300ms/step - accuracy: 0.6669 - loss: 0.6660 - val_accuracy: 0.6667 - val_loss: 0.6548\n",
      "Epoch 10/20\n",
      "\u001b[1m31/31\u001b[0m \u001b[32m━━━━━━━━━━━━━━━━━━━━\u001b[0m\u001b[37m\u001b[0m \u001b[1m9s\u001b[0m 294ms/step - accuracy: 0.6981 - loss: 0.6156 - val_accuracy: 0.6667 - val_loss: 0.6361\n",
      "Epoch 11/20\n",
      "\u001b[1m31/31\u001b[0m \u001b[32m━━━━━━━━━━━━━━━━━━━━\u001b[0m\u001b[37m\u001b[0m \u001b[1m9s\u001b[0m 306ms/step - accuracy: 0.6693 - loss: 0.6383 - val_accuracy: 0.6667 - val_loss: 0.6585\n",
      "Epoch 12/20\n",
      "\u001b[1m31/31\u001b[0m \u001b[32m━━━━━━━━━━━━━━━━━━━━\u001b[0m\u001b[37m\u001b[0m \u001b[1m9s\u001b[0m 296ms/step - accuracy: 0.6654 - loss: 0.6568 - val_accuracy: 0.6667 - val_loss: 0.6435\n",
      "Epoch 13/20\n",
      "\u001b[1m31/31\u001b[0m \u001b[32m━━━━━━━━━━━━━━━━━━━━\u001b[0m\u001b[37m\u001b[0m \u001b[1m9s\u001b[0m 292ms/step - accuracy: 0.7040 - loss: 0.6161 - val_accuracy: 0.6667 - val_loss: 0.6342\n",
      "Epoch 14/20\n",
      "\u001b[1m31/31\u001b[0m \u001b[32m━━━━━━━━━━━━━━━━━━━━\u001b[0m\u001b[37m\u001b[0m \u001b[1m10s\u001b[0m 321ms/step - accuracy: 0.6959 - loss: 0.6212 - val_accuracy: 0.6667 - val_loss: 0.6325\n",
      "Epoch 15/20\n",
      "\u001b[1m31/31\u001b[0m \u001b[32m━━━━━━━━━━━━━━━━━━━━\u001b[0m\u001b[37m\u001b[0m \u001b[1m10s\u001b[0m 320ms/step - accuracy: 0.6872 - loss: 0.6163 - val_accuracy: 0.6667 - val_loss: 0.6440\n",
      "Epoch 16/20\n",
      "\u001b[1m31/31\u001b[0m \u001b[32m━━━━━━━━━━━━━━━━━━━━\u001b[0m\u001b[37m\u001b[0m \u001b[1m11s\u001b[0m 342ms/step - accuracy: 0.6864 - loss: 0.6277 - val_accuracy: 0.6667 - val_loss: 0.6371\n",
      "Epoch 17/20\n",
      "\u001b[1m31/31\u001b[0m \u001b[32m━━━━━━━━━━━━━━━━━━━━\u001b[0m\u001b[37m\u001b[0m \u001b[1m10s\u001b[0m 319ms/step - accuracy: 0.6887 - loss: 0.6194 - val_accuracy: 0.6667 - val_loss: 0.6313\n",
      "Epoch 18/20\n",
      "\u001b[1m31/31\u001b[0m \u001b[32m━━━━━━━━━━━━━━━━━━━━\u001b[0m\u001b[37m\u001b[0m \u001b[1m10s\u001b[0m 323ms/step - accuracy: 0.7006 - loss: 0.6145 - val_accuracy: 0.6667 - val_loss: 0.6372\n",
      "Epoch 19/20\n",
      "\u001b[1m31/31\u001b[0m \u001b[32m━━━━━━━━━━━━━━━━━━━━\u001b[0m\u001b[37m\u001b[0m \u001b[1m10s\u001b[0m 324ms/step - accuracy: 0.6927 - loss: 0.6199 - val_accuracy: 0.6667 - val_loss: 0.6346\n",
      "Epoch 20/20\n",
      "\u001b[1m31/31\u001b[0m \u001b[32m━━━━━━━━━━━━━━━━━━━━\u001b[0m\u001b[37m\u001b[0m \u001b[1m10s\u001b[0m 329ms/step - accuracy: 0.7103 - loss: 0.6075 - val_accuracy: 0.6667 - val_loss: 0.6328\n"
     ]
    }
   ],
   "source": [
    "history2 = model2.fit(\n",
    "    train_fmri_matrices, train_ADHD_outcome,\n",
    "    epochs = 20,\n",
    "    batch_size = 32,\n",
    "    validation_split = 0.2\n",
    ")"
   ]
  }
 ],
 "metadata": {
  "kernelspec": {
   "display_name": "base",
   "language": "python",
   "name": "python3"
  },
  "language_info": {
   "codemirror_mode": {
    "name": "ipython",
    "version": 3
   },
   "file_extension": ".py",
   "mimetype": "text/x-python",
   "name": "python",
   "nbconvert_exporter": "python",
   "pygments_lexer": "ipython3",
   "version": "3.12.2"
  }
 },
 "nbformat": 4,
 "nbformat_minor": 2
}

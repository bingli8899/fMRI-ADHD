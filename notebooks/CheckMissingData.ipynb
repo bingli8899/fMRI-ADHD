{
 "cells": [
  {
   "cell_type": "code",
   "execution_count": 1,
   "id": "dfc3211b",
   "metadata": {},
   "outputs": [],
   "source": [
    "import sys \n",
    "import os\n",
    "import pandas as pd  \n",
    "from pathlib import Path  \n",
    "import matplotlib.pyplot as plt\n",
    "import numpy as np\n",
    "from scipy.stats import shapiro\n",
    "import glob"
   ]
  },
  {
   "cell_type": "code",
   "execution_count": 2,
   "id": "6c1ecfa2",
   "metadata": {
    "scrolled": true
   },
   "outputs": [],
   "source": [
    "rootfolder = os.path.abspath(os.path.join(Path.cwd(),\"..\")) # rootpath --> top of git repo\n",
    "sys.path.append(os.path.join(rootfolder))\n",
    "\n",
    "from src.data.data_loader import load_data\n",
    "import src.utility.utility as ut"
   ]
  },
  {
   "cell_type": "code",
   "execution_count": 3,
   "id": "46ee15a9",
   "metadata": {},
   "outputs": [],
   "source": [
    "# rootfolder = Path.cwd() \n",
    "rootfolder = \"/Users/bingli/Documents/GitHub/fMRI-AHDH\"\n",
    "datafolder = os.path.join(rootfolder, \"data\")"
   ]
  },
  {
   "cell_type": "code",
   "execution_count": 4,
   "id": "efa4d0de",
   "metadata": {},
   "outputs": [],
   "source": [
    "train_data_dic = load_data(datafolder, filetype = \"train\") \n",
    "train_quant = train_data_dic[\"train_quant\"]\n",
    "train_outcome = train_data_dic[\"train_outcome\"]\n",
    "train_cate = train_data_dic[\"train_cate\"]\n",
    "train_fmri = train_data_dic[\"train_fmri\"]"
   ]
  },
  {
   "cell_type": "code",
   "execution_count": null,
   "id": "8915216f",
   "metadata": {},
   "outputs": [],
   "source": [
    "test_data_dic = load_data(datafolder, filetype = \"test\")\n",
    "test_quant = test_data_dic[\"test_quant\"]\n",
    "test_cate = test_data_dic[\"test_cate\"]\n",
    "test_fmri = test_data_dic[\"test_fmri\"]"
   ]
  },
  {
   "cell_type": "code",
   "execution_count": 5,
   "id": "b3a823ca",
   "metadata": {},
   "outputs": [
    {
     "name": "stdout",
     "output_type": "stream",
     "text": [
      "col MRI_Track_Age_at_Scan has 29.67848309975268 % missing.\n",
      "train_outcome has no missing value\n",
      "col PreInt_Demos_Fam_Child_Ethnicity has 0.9068425391591096 % missing.\n",
      "train_fmri has no missing value\n",
      "Missing columns in training dataset: [['MRI_Track_Age_at_Scan'], [], ['PreInt_Demos_Fam_Child_Ethnicity'], []]\n"
     ]
    }
   ],
   "source": [
    "# Check missing values for train dataset \n",
    "train_missing_cols = [] \n",
    "for name, df in train_data_dic.items():\n",
    "    missing_lst = ut.return_missing_list(df, name)  \n",
    "    train_missing_cols.append(missing_lst)\n",
    "print(\"Missing columns in training dataset: \" + str(train_missing_cols))\n"
   ]
  },
  {
   "cell_type": "code",
   "execution_count": null,
   "id": "a6425a84",
   "metadata": {},
   "outputs": [],
   "source": [
    "# Check missing values --> Test dataset \n",
    "# It seems that the test dataset has a lot more missing :-(  \n",
    "test_missing_cols = [] \n",
    "for name, df in test_data_dic.items():\n",
    "    missing_lst = ut.return_missing_list(df, name)   \n",
    "    test_missing_cols.append(missing_lst)\n",
    "print(\"Missing columns in testing dataset\" + str(test_missing_cols))\n",
    "    "
   ]
  },
  {
   "cell_type": "code",
   "execution_count": null,
   "id": "0d113f9b",
   "metadata": {},
   "outputs": [],
   "source": [
    "# MCAR test for MRI_Track_Age_at_Scan column \n",
    "# Goal: 1) if data is missing completely at random (MCAR); \n",
    "# 2) Missing at random (MAR); \n",
    "# 3) Missing NOT at random (MNAR) \n",
    "\n",
    "# see if the missing / presence of columns with missing are correlated with any columns in the dataset\n",
    "# Create an indicator variable for missing values\n",
    "train_quant[\"MRI_track_age_missing\"] = np.where(train_quant[\"MRI_Track_Age_at_Scan\"].isnull(), 1, 0)\n",
    "train_cate[\"child_eth_missing\"] = np.where(train_cate[\"PreInt_Demos_Fam_Child_Ethnicity\"].isnull(), 1, 0)\n",
    "\n",
    "# Here, enroll year is categorical but it could be better recognized as a numerical column\n",
    "for col in train_cate.columns[2:]: # Other columns are converted to string for chi2-test for now\n",
    "    train_cate[col] = train_cate[col].astype(str)\n",
    "type(train_cate[\"Basic_Demos_Study_Site\"])\n",
    "\n",
    "pa_id = list(set(train_cate.columns) & set(train_quant.columns))[0]\n",
    "train_demo = train_cate.merge(train_quant, on=pa_id) \n",
    "\n",
    "numerical_columns = train_demo.select_dtypes(include=['number']).columns.tolist()\n",
    "categorical_columns = train_demo.select_dtypes(include=['object', 'category']).columns.tolist()\n",
    "print(len(train_demo.columns))\n",
    "print(len(numerical_columns) + len(categorical_columns)) # check if all included \n",
    "numerical_columns.remove(\"MRI_track_age_missing\")\n",
    "categorical_columns.remove(\"child_eth_missing\")\n",
    "print(numerical_columns)\n",
    "print(categorical_columns)"
   ]
  },
  {
   "cell_type": "code",
   "execution_count": null,
   "id": "b0e95cbb",
   "metadata": {
    "scrolled": true
   },
   "outputs": [],
   "source": [
    "ut.chi2_with_one_columns(categorical_columns, \"MRI_track_age_missing\", train_demo)\n",
    "# Nothing correlated "
   ]
  },
  {
   "cell_type": "code",
   "execution_count": null,
   "id": "2eb07bc5",
   "metadata": {},
   "outputs": [],
   "source": [
    "ut.chi2_with_one_columns(categorical_columns, \"child_eth_missing\", train_demo)\n",
    "# The missing values of PreInt_Demos_Fam_Child_Race is strongly correlated with MRI_Track_Scan_Location "
   ]
  },
  {
   "cell_type": "code",
   "execution_count": null,
   "id": "491ede8b",
   "metadata": {},
   "outputs": [],
   "source": [
    "ut.ttest_utest_with_one_column(numerical_columns, \"MRI_track_age_missing\", train_demo)\n",
    "# It seems that this is marginally correlated with SDQ_SDQ_Conduct_Problems "
   ]
  },
  {
   "cell_type": "code",
   "execution_count": null,
   "id": "21914544",
   "metadata": {
    "scrolled": true
   },
   "outputs": [],
   "source": [
    "ut.ttest_utest_with_one_column(numerical_columns, \"child_eth_missing\", train_demo)\n",
    "# PreInt_Demos_Fam_Child_Race is correlated with\n",
    "# 1) Basic_Demos_Enroll_Year\n",
    "# 2) APQ_P_APQ_P_CP (marginal)\n",
    "# 3) APQ_P_APQ_P_OPD\n",
    "# 4) SDQ_SDQ_Peer_Problems (marginal)"
   ]
  },
  {
   "cell_type": "markdown",
   "id": "41dd1f03",
   "metadata": {},
   "source": [
    "# Conclusion: \n",
    "Two columns with missing values (PreInt_Demos_Fam_Child_Ethnicity - 1% missing & MRI_Track_Age_at_Scan - 30 % missing). \n",
    "\n",
    "Notes: \n",
    "\n",
    "1) Missing values in MRI_Track_Age_at_Scan doesn't seem to correlate with any quantatitive and categorical variables stronglu, while there is a huge percentage missing.\n",
    "    \n",
    "2) Missing values in PreInt_Demos_Fam_Child_Ethnicity only accounts for 1% but it has high correlation with several quantatitive and categorical variables. \n",
    "    \n",
    "Therefore, *imputation of missing data is important*. \n",
    "\n",
    "For PreInt_Demos_Fam_Child_Ethnicity --> use KNN to impute. \n",
    "\n",
    "For MRI_Track_Age_at_Scan --> Not sure. Could use some cool approaches but let's proceed with KNN first to see the performance. \n",
    "\n",
    "Also, the test dataset has a lot more columns with missing values. Need to think of this later. \n"
   ]
  }
 ],
 "metadata": {
  "kernelspec": {
   "display_name": "Python 3 (ipykernel)",
   "language": "python",
   "name": "python3"
  },
  "language_info": {
   "codemirror_mode": {
    "name": "ipython",
    "version": 3
   },
   "file_extension": ".py",
   "mimetype": "text/x-python",
   "name": "python",
   "nbconvert_exporter": "python",
   "pygments_lexer": "ipython3",
   "version": "3.9.18"
  }
 },
 "nbformat": 4,
 "nbformat_minor": 5
}

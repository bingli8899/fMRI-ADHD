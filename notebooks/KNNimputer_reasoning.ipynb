{
 "cells": [
  {
   "cell_type": "code",
   "execution_count": 1,
   "id": "d388ced7",
   "metadata": {},
   "outputs": [],
   "source": [
    "import os \n",
    "import sys\n",
    "import pandas as pd\n",
    "import numpy as np\n",
    "from sklearn.impute import KNNImputer\n",
    "from sklearn.preprocessing import OneHotEncoder, StandardScaler\n",
    "\n",
    "rootfolder = os.path.abspath(os.path.join(Path.cwd(),\"..\")) # rootpath --> top of git repo\n",
    "# Change the above if you are not in $root/notebook/\n",
    "\n",
    "# If you are in the $root, uncomment below: \n",
    "# rootfolder = Path.cwd() \n",
    "\n",
    "sys.path.append(os.path.join(rootfolder))"
   ]
  },
  {
   "cell_type": "code",
   "execution_count": 2,
   "id": "3012e51e",
   "metadata": {},
   "outputs": [],
   "source": [
    "\n",
    "from src.data.data_loader import load_data\n",
    "import src.utility.ut_general as ut_general\n",
    "import src.utility.ut_stats as ut_stats \n",
    "datafolder = os.path.join(rootfolder, \"data\")"
   ]
  },
  {
   "cell_type": "code",
   "execution_count": 3,
   "id": "4f1654fa",
   "metadata": {},
   "outputs": [],
   "source": [
    "# Load test data: \n",
    "test_data_dic = load_data(datafolder, filetype = \"test\")\n",
    "test_quant = test_data_dic[\"test_quant\"]\n",
    "test_cate = test_data_dic[\"test_cate\"]\n",
    "test_fmri = test_data_dic[\"test_fmri\"]"
   ]
  },
  {
   "cell_type": "code",
   "execution_count": 4,
   "id": "d3497478",
   "metadata": {},
   "outputs": [],
   "source": [
    "# Load trainning data: \n",
    "train_data_dic = load_data(datafolder, filetype = \"train\") \n",
    "train_quant = train_data_dic[\"train_quant\"]\n",
    "train_outcome = train_data_dic[\"train_outcome\"]\n",
    "train_cate = train_data_dic[\"train_cate\"]\n",
    "train_fmri = train_data_dic[\"train_fmri\"] "
   ]
  },
  {
   "cell_type": "code",
   "execution_count": 5,
   "id": "fac2b932",
   "metadata": {},
   "outputs": [
    {
     "name": "stdout",
     "output_type": "stream",
     "text": [
      "Index(['participant_id', 'Basic_Demos_Enroll_Year', 'Basic_Demos_Study_Site',\n",
      "       'PreInt_Demos_Fam_Child_Ethnicity', 'PreInt_Demos_Fam_Child_Race',\n",
      "       'MRI_Track_Scan_Location', 'Barratt_Barratt_P1_Edu',\n",
      "       'Barratt_Barratt_P1_Occ', 'Barratt_Barratt_P2_Edu',\n",
      "       'Barratt_Barratt_P2_Occ'],\n",
      "      dtype='object')\n",
      "Index(['participant_id', 'EHQ_EHQ_Total', 'ColorVision_CV_Score',\n",
      "       'APQ_P_APQ_P_CP', 'APQ_P_APQ_P_ID', 'APQ_P_APQ_P_INV',\n",
      "       'APQ_P_APQ_P_OPD', 'APQ_P_APQ_P_PM', 'APQ_P_APQ_P_PP',\n",
      "       'SDQ_SDQ_Conduct_Problems', 'SDQ_SDQ_Difficulties_Total',\n",
      "       'SDQ_SDQ_Emotional_Problems', 'SDQ_SDQ_Externalizing',\n",
      "       'SDQ_SDQ_Generating_Impact', 'SDQ_SDQ_Hyperactivity',\n",
      "       'SDQ_SDQ_Internalizing', 'SDQ_SDQ_Peer_Problems', 'SDQ_SDQ_Prosocial',\n",
      "       'MRI_Track_Age_at_Scan'],\n",
      "      dtype='object')\n"
     ]
    }
   ],
   "source": [
    "cate_cols = train_cate.columns \n",
    "print(cate_cols) \n",
    "quant_col = train_quant.columns\n",
    "print(quant_col)"
   ]
  },
  {
   "cell_type": "code",
   "execution_count": 6,
   "id": "222778f0",
   "metadata": {},
   "outputs": [
    {
     "data": {
      "text/plain": [
       "{2015, 2016, 2017, 2018, 2019, 2020}"
      ]
     },
     "execution_count": 6,
     "metadata": {},
     "output_type": "execute_result"
    }
   ],
   "source": [
    "set(train_cate['Basic_Demos_Enroll_Year']) # from 2015 to 2020 \n",
    "# Should this be treated as quantatitive or ordinal?"
   ]
  },
  {
   "cell_type": "code",
   "execution_count": 7,
   "id": "b4c22f36",
   "metadata": {},
   "outputs": [
    {
     "name": "stdout",
     "output_type": "stream",
     "text": [
      "Index(['EHQ_EHQ_Total', 'ColorVision_CV_Score', 'APQ_P_APQ_P_CP',\n",
      "       'APQ_P_APQ_P_ID', 'APQ_P_APQ_P_INV', 'APQ_P_APQ_P_OPD',\n",
      "       'APQ_P_APQ_P_PM', 'APQ_P_APQ_P_PP', 'SDQ_SDQ_Conduct_Problems',\n",
      "       'SDQ_SDQ_Difficulties_Total', 'SDQ_SDQ_Emotional_Problems',\n",
      "       'SDQ_SDQ_Externalizing', 'SDQ_SDQ_Generating_Impact',\n",
      "       'SDQ_SDQ_Hyperactivity', 'SDQ_SDQ_Internalizing',\n",
      "       'SDQ_SDQ_Peer_Problems', 'SDQ_SDQ_Prosocial', 'MRI_Track_Age_at_Scan'],\n",
      "      dtype='object')\n"
     ]
    }
   ],
   "source": [
    "ordinal_var = ['Barratt_Barratt_P1_Edu', 'Barratt_Barratt_P1_Occ', \n",
    "               'Barratt_Barratt_P2_Edu', 'Barratt_Barratt_P2_Occ',\n",
    "              'Basic_Demos_Enroll_Year']\n",
    "cate_var = ['Basic_Demos_Study_Site', 'PreInt_Demos_Fam_Child_Ethnicity',\n",
    "             'PreInt_Demos_Fam_Child_Race', 'MRI_Track_Scan_Location'] \n",
    "quant_var = quant_col[1:]\n",
    "print(quant_var)"
   ]
  },
  {
   "cell_type": "code",
   "execution_count": 60,
   "id": "b964d190",
   "metadata": {},
   "outputs": [
    {
     "name": "stdout",
     "output_type": "stream",
     "text": [
      "set()\n",
      "set()\n"
     ]
    }
   ],
   "source": [
    "missing_columns_cate = set(train_cate.columns) - set(test_cate.columns)\n",
    "print(missing_columns_cate)\n",
    "missing_columns_quant = set(train_quant.columns) - set(test_quant.columns)\n",
    "print(missing_columns_quant)"
   ]
  },
  {
   "cell_type": "markdown",
   "id": "37f91b5e",
   "metadata": {},
   "source": [
    "Test dataset and train dataset have the same columns in the demographical data. "
   ]
  },
  {
   "cell_type": "code",
   "execution_count": 61,
   "id": "f9bdcc3e",
   "metadata": {
    "scrolled": true
   },
   "outputs": [
    {
     "name": "stdout",
     "output_type": "stream",
     "text": [
      "There are 8 levels in Barratt_Barratt_P1_Edu, including:\n",
      "{0, 3, 6, 9, 12, 15, 18, 21}\n",
      "There are 10 levels in Barratt_Barratt_P1_Occ, including:\n",
      "{0, 35, 5, 40, 10, 45, 15, 20, 25, 30}\n",
      "There are 8 levels in Barratt_Barratt_P2_Edu, including:\n",
      "{0, 3, 6, 9, 12, 15, 18, 21}\n",
      "There are 10 levels in Barratt_Barratt_P2_Occ, including:\n",
      "{0, 35, 5, 40, 10, 45, 15, 20, 25, 30}\n",
      "There are 6 levels in Basic_Demos_Enroll_Year, including:\n",
      "{2016, 2017, 2018, 2019, 2020, 2015}\n"
     ]
    },
    {
     "data": {
      "text/plain": [
       "[8, 10, 8, 10, 6]"
      ]
     },
     "execution_count": 61,
     "metadata": {},
     "output_type": "execute_result"
    }
   ],
   "source": [
    "ut_general.count_levels_for_columns(ordinal_var, train_cate)\n",
    "\n",
    "# Use ordinal encoding: \n",
    "# 1) Education level and occupation both have a ordinal ordering \n",
    "# 2) Many levels in each variable. One-hot encoding will introduce high-dimensionality. "
   ]
  },
  {
   "cell_type": "markdown",
   "id": "ba56b2c8",
   "metadata": {},
   "source": [
    "All ordinal columns have more than 5 levels. If I use one-hot encoder, this might increase the dimensionality too much. "
   ]
  },
  {
   "cell_type": "code",
   "execution_count": 62,
   "id": "6bb5ed02",
   "metadata": {
    "scrolled": true
   },
   "outputs": [
    {
     "name": "stdout",
     "output_type": "stream",
     "text": [
      "There are 4 levels in Basic_Demos_Study_Site, including:\n",
      "{1, 2, 3, 4}\n",
      "There are 15 levels in PreInt_Demos_Fam_Child_Ethnicity, including:\n",
      "{0.0, 1.0, 2.0, 3.0, nan, nan, nan, nan, nan, nan, nan, nan, nan, nan, nan}\n",
      "There are 10 levels in PreInt_Demos_Fam_Child_Race, including:\n",
      "{0, 1, 2, 3, 4, 7, 8, 9, 10, 11}\n",
      "There are 5 levels in MRI_Track_Scan_Location, including:\n",
      "{0, 1, 2, 3, 4}\n"
     ]
    },
    {
     "data": {
      "text/plain": [
       "[4, 15, 10, 5]"
      ]
     },
     "execution_count": 62,
     "metadata": {},
     "output_type": "execute_result"
    }
   ],
   "source": [
    "ut_general.count_levels_for_columns(cate_var, train_cate, True)\n",
    "    \n",
    "# Here, most of the variable have >=5 levels. \n",
    "# Using one-hot encoding alone might have a high dimensionality\n",
    "# Handle different encoding type in the code and perhaps use corss-validation to test latter? "
   ]
  },
  {
   "cell_type": "markdown",
   "id": "924eb2fa",
   "metadata": {},
   "source": [
    "It seems that some nominal variable also preserves >=5 levels for each category. "
   ]
  },
  {
   "cell_type": "markdown",
   "id": "a4cbab94",
   "metadata": {},
   "source": [
    "I think the ordinal data should be encoded as ordinal encoding and the rest could be encoded with one-hot encoding. However, another issue is listed below: "
   ]
  },
  {
   "cell_type": "code",
   "execution_count": 10,
   "id": "32e13ee6",
   "metadata": {
    "scrolled": true
   },
   "outputs": [
    {
     "name": "stdout",
     "output_type": "stream",
     "text": [
      "For Basic_Demos_Enroll_Year, below are in test but not in train:\n",
      "\n",
      "{2021, 2022, 2023}\n",
      "For Basic_Demos_Enroll_Year, below are in train but not in test:\n",
      "\n",
      "{2016, 2017, 2018, 2015}\n",
      "For Basic_Demos_Study_Site, below are in test but not in train:\n",
      "\n",
      "{5}\n",
      "For Basic_Demos_Study_Site, below are in train but not in test:\n",
      "\n",
      "{1, 2, 3}\n",
      "For PreInt_Demos_Fam_Child_Ethnicity, below are in test but not in train:\n",
      "\n",
      "{nan, nan, nan}\n",
      "For PreInt_Demos_Fam_Child_Ethnicity, below are in train but not in test:\n",
      "\n",
      "{nan, nan, nan, nan, nan, nan, nan, nan, nan, nan, nan}\n",
      "For PreInt_Demos_Fam_Child_Race, below are in test but not in train:\n",
      "\n",
      "{nan, nan, nan, nan, nan, nan}\n",
      "For PreInt_Demos_Fam_Child_Race, below are in train but not in test:\n",
      "\n",
      "{10}\n",
      "For MRI_Track_Scan_Location, below are in train but not in test:\n",
      "\n",
      "{0, 1, 2}\n",
      "For Barratt_Barratt_P1_Edu, below are in test but not in train:\n",
      "\n",
      "{nan}\n",
      "For Barratt_Barratt_P1_Edu, below are in train but not in test:\n",
      "\n",
      "{0}\n",
      "For Barratt_Barratt_P1_Occ, below are in test but not in train:\n",
      "\n",
      "{nan}\n",
      "For Barratt_Barratt_P1_Occ, below are in train but not in test:\n",
      "\n",
      "{10}\n",
      "For Barratt_Barratt_P2_Edu, below are in test but not in train:\n",
      "\n",
      "{nan, nan, nan, nan, nan, nan, nan, nan, nan, nan, nan, nan, nan, nan, nan, nan, nan, nan, nan, nan, nan, nan, nan, nan, nan, nan, nan, nan, nan, nan, nan, nan, nan, nan, nan, nan}\n",
      "For Barratt_Barratt_P2_Edu, below are in train but not in test:\n",
      "\n",
      "{0}\n",
      "For Barratt_Barratt_P2_Occ, below are in test but not in train:\n",
      "\n",
      "{nan, nan, nan, nan, nan, nan, nan, nan, nan, nan, nan, nan, nan, nan, nan, nan, nan, nan, nan, nan, nan, nan, nan, nan, nan, nan, nan, nan, nan, nan, nan, nan, nan, nan, nan, nan, nan, nan, nan, nan, nan, nan}\n"
     ]
    }
   ],
   "source": [
    "ut_general.check_columns_set(train_cate, test_cate)"
   ]
  },
  {
   "cell_type": "markdown",
   "id": "3b4b1a86",
   "metadata": {},
   "source": [
    "Although columns match between test data and train data, it seems that a lot of columns in the categorical dataset in the train have different values compared between train and test. "
   ]
  },
  {
   "cell_type": "markdown",
   "id": "c464858f",
   "metadata": {},
   "source": [
    "This makes ordinal encoding a bit tricky. Since if using ordinal encoding, KNN_imputer cannot handle a category seen in the test but not seen in the train. "
   ]
  },
  {
   "cell_type": "markdown",
   "id": "8fb90d0b",
   "metadata": {},
   "source": [
    "For now, let's encode every categorical data with one-hot encoding. Later, if the ordinal nature of ordinal data is truly important, we can change later. "
   ]
  }
 ],
 "metadata": {
  "kernelspec": {
   "display_name": "Python 3 (ipykernel)",
   "language": "python",
   "name": "python3"
  },
  "language_info": {
   "codemirror_mode": {
    "name": "ipython",
    "version": 3
   },
   "file_extension": ".py",
   "mimetype": "text/x-python",
   "name": "python",
   "nbconvert_exporter": "python",
   "pygments_lexer": "ipython3",
   "version": "3.9.18"
  }
 },
 "nbformat": 4,
 "nbformat_minor": 5
}

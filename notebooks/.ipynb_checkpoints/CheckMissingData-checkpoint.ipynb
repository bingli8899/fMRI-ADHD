{
 "cells": [
  {
   "cell_type": "code",
   "execution_count": 1,
   "id": "dfc3211b",
   "metadata": {},
   "outputs": [],
   "source": [
    "import sys \n",
    "import os\n",
    "import pandas as pd  \n",
    "from pathlib import Path  \n",
    "import matplotlib.pyplot as plt\n",
    "import numpy as np\n",
    "from scipy.stats import shapiro\n",
    "import glob"
   ]
  },
  {
   "cell_type": "code",
   "execution_count": 2,
   "id": "6c1ecfa2",
   "metadata": {
    "scrolled": true
   },
   "outputs": [],
   "source": [
    "rootfolder = os.path.abspath(os.path.join(Path.cwd(),\"..\")) # rootpath --> top of git repo\n",
    "sys.path.append(os.path.join(rootfolder))\n",
    "\n",
    "from src.data.data_loader import load_data\n",
    "import src.utility.ut_general as ut_general\n",
    "import src.utility.ut_stats as ut_stats"
   ]
  },
  {
   "cell_type": "code",
   "execution_count": 3,
   "id": "46ee15a9",
   "metadata": {},
   "outputs": [],
   "source": [
    "rootfolder = Path.cwd() \n",
    "# rootfolder = \"/Users/bingli/Documents/GitHub/fMRI-AHDH\"\n",
    "datafolder = os.path.join(rootfolder, \"data\")"
   ]
  },
  {
   "cell_type": "code",
   "execution_count": 4,
   "id": "efa4d0de",
   "metadata": {},
   "outputs": [],
   "source": [
    "train_data_dic = load_data(datafolder, filetype = \"train\") \n",
    "train_quant = train_data_dic[\"train_quant\"]\n",
    "train_outcome = train_data_dic[\"train_outcome\"]\n",
    "train_cate = train_data_dic[\"train_cate\"]\n",
    "train_fmri = train_data_dic[\"train_fmri\"]"
   ]
  },
  {
   "cell_type": "code",
   "execution_count": 5,
   "id": "8915216f",
   "metadata": {},
   "outputs": [],
   "source": [
    "test_data_dic = load_data(datafolder, filetype = \"test\")\n",
    "test_quant = test_data_dic[\"test_quant\"]\n",
    "test_cate = test_data_dic[\"test_cate\"]\n",
    "test_fmri = test_data_dic[\"test_fmri\"]"
   ]
  },
  {
   "cell_type": "code",
   "execution_count": 5,
   "id": "b3a823ca",
   "metadata": {},
   "outputs": [
    {
     "name": "stdout",
     "output_type": "stream",
     "text": [
      "col MRI_Track_Age_at_Scan has 29.67848309975268 % missing.\n",
      "train_outcome has no missing value\n",
      "col PreInt_Demos_Fam_Child_Ethnicity has 0.9068425391591096 % missing.\n",
      "train_fmri has no missing value\n",
      "Missing columns in training dataset: [['MRI_Track_Age_at_Scan'], [], ['PreInt_Demos_Fam_Child_Ethnicity'], []]\n"
     ]
    }
   ],
   "source": [
    "# Check missing values for train dataset \n",
    "train_missing_cols = [] \n",
    "for name, df in train_data_dic.items():\n",
    "    missing_lst = ut_general.return_missing_list(df, name)  \n",
    "    train_missing_cols.append(missing_lst)\n",
    "print(\"Missing columns in training dataset: \" + str(train_missing_cols))\n"
   ]
  },
  {
   "cell_type": "code",
   "execution_count": 6,
   "id": "a6425a84",
   "metadata": {},
   "outputs": [
    {
     "name": "stdout",
     "output_type": "stream",
     "text": [
      "col PreInt_Demos_Fam_Child_Ethnicity has 0.9868421052631579 % missing.\n",
      "col PreInt_Demos_Fam_Child_Race has 1.9736842105263157 % missing.\n",
      "col Barratt_Barratt_P1_Edu has 0.3289473684210526 % missing.\n",
      "col Barratt_Barratt_P1_Occ has 0.3289473684210526 % missing.\n",
      "col Barratt_Barratt_P2_Edu has 11.842105263157894 % missing.\n",
      "col Barratt_Barratt_P2_Occ has 13.815789473684212 % missing.\n",
      "test_fmri has no missing value\n",
      "col EHQ_EHQ_Total has 0.3289473684210526 % missing.\n",
      "col ColorVision_CV_Score has 2.9605263157894735 % missing.\n",
      "col APQ_P_APQ_P_CP has 4.934210526315789 % missing.\n",
      "col APQ_P_APQ_P_ID has 4.934210526315789 % missing.\n",
      "col APQ_P_APQ_P_INV has 4.934210526315789 % missing.\n",
      "col APQ_P_APQ_P_OPD has 4.934210526315789 % missing.\n",
      "col APQ_P_APQ_P_PM has 4.934210526315789 % missing.\n",
      "col APQ_P_APQ_P_PP has 4.934210526315789 % missing.\n",
      "col SDQ_SDQ_Conduct_Problems has 9.868421052631579 % missing.\n",
      "col SDQ_SDQ_Difficulties_Total has 9.868421052631579 % missing.\n",
      "col SDQ_SDQ_Emotional_Problems has 9.868421052631579 % missing.\n",
      "col SDQ_SDQ_Externalizing has 9.868421052631579 % missing.\n",
      "col SDQ_SDQ_Generating_Impact has 9.868421052631579 % missing.\n",
      "col SDQ_SDQ_Hyperactivity has 9.868421052631579 % missing.\n",
      "col SDQ_SDQ_Internalizing has 9.868421052631579 % missing.\n",
      "col SDQ_SDQ_Peer_Problems has 9.868421052631579 % missing.\n",
      "col SDQ_SDQ_Prosocial has 9.868421052631579 % missing.\n",
      "Missing columns in testing dataset[['PreInt_Demos_Fam_Child_Ethnicity', 'PreInt_Demos_Fam_Child_Race', 'Barratt_Barratt_P1_Edu', 'Barratt_Barratt_P1_Occ', 'Barratt_Barratt_P2_Edu', 'Barratt_Barratt_P2_Occ'], [], ['EHQ_EHQ_Total', 'ColorVision_CV_Score', 'APQ_P_APQ_P_CP', 'APQ_P_APQ_P_ID', 'APQ_P_APQ_P_INV', 'APQ_P_APQ_P_OPD', 'APQ_P_APQ_P_PM', 'APQ_P_APQ_P_PP', 'SDQ_SDQ_Conduct_Problems', 'SDQ_SDQ_Difficulties_Total', 'SDQ_SDQ_Emotional_Problems', 'SDQ_SDQ_Externalizing', 'SDQ_SDQ_Generating_Impact', 'SDQ_SDQ_Hyperactivity', 'SDQ_SDQ_Internalizing', 'SDQ_SDQ_Peer_Problems', 'SDQ_SDQ_Prosocial']]\n"
     ]
    }
   ],
   "source": [
    "# Check missing values --> Test dataset \n",
    "# It seems that the test dataset has a lot more missing :-(  \n",
    "test_missing_cols = [] \n",
    "for name, df in test_data_dic.items():\n",
    "    missing_lst = ut_general.return_missing_list(df, name)   \n",
    "    test_missing_cols.append(missing_lst)\n",
    "print(\"Missing columns in testing dataset\" + str(test_missing_cols))\n",
    "    "
   ]
  },
  {
   "cell_type": "code",
   "execution_count": 8,
   "id": "0d113f9b",
   "metadata": {},
   "outputs": [
    {
     "name": "stdout",
     "output_type": "stream",
     "text": [
      "30\n",
      "30\n",
      "['Basic_Demos_Enroll_Year', 'EHQ_EHQ_Total', 'ColorVision_CV_Score', 'APQ_P_APQ_P_CP', 'APQ_P_APQ_P_ID', 'APQ_P_APQ_P_INV', 'APQ_P_APQ_P_OPD', 'APQ_P_APQ_P_PM', 'APQ_P_APQ_P_PP', 'SDQ_SDQ_Conduct_Problems', 'SDQ_SDQ_Difficulties_Total', 'SDQ_SDQ_Emotional_Problems', 'SDQ_SDQ_Externalizing', 'SDQ_SDQ_Generating_Impact', 'SDQ_SDQ_Hyperactivity', 'SDQ_SDQ_Internalizing', 'SDQ_SDQ_Peer_Problems', 'SDQ_SDQ_Prosocial', 'MRI_Track_Age_at_Scan']\n",
      "['participant_id', 'Basic_Demos_Study_Site', 'PreInt_Demos_Fam_Child_Ethnicity', 'PreInt_Demos_Fam_Child_Race', 'MRI_Track_Scan_Location', 'Barratt_Barratt_P1_Edu', 'Barratt_Barratt_P1_Occ', 'Barratt_Barratt_P2_Edu', 'Barratt_Barratt_P2_Occ']\n"
     ]
    }
   ],
   "source": [
    "# MCAR test for MRI_Track_Age_at_Scan column \n",
    "# Goal: 1) if data is missing completely at random (MCAR); \n",
    "# 2) Missing at random (MAR); \n",
    "# 3) Missing NOT at random (MNAR) \n",
    "\n",
    "# see if the missing / presence of columns with missing are correlated with any columns in the dataset\n",
    "# Create an indicator variable for missing values\n",
    "train_quant[\"MRI_track_age_missing\"] = np.where(train_quant[\"MRI_Track_Age_at_Scan\"].isnull(), 1, 0)\n",
    "train_cate[\"child_eth_missing\"] = np.where(train_cate[\"PreInt_Demos_Fam_Child_Ethnicity\"].isnull(), 1, 0)\n",
    "\n",
    "# Here, enroll year is categorical but it could be better recognized as a numerical column\n",
    "for col in train_cate.columns[2:]: # Other columns are converted to string for chi2-test for now\n",
    "    train_cate[col] = train_cate[col].astype(str)\n",
    "type(train_cate[\"Basic_Demos_Study_Site\"])\n",
    "\n",
    "pa_id = list(set(train_cate.columns) & set(train_quant.columns))[0]\n",
    "train_demo = train_cate.merge(train_quant, on=pa_id) \n",
    "\n",
    "numerical_columns = train_demo.select_dtypes(include=['number']).columns.tolist()\n",
    "categorical_columns = train_demo.select_dtypes(include=['object', 'category']).columns.tolist()\n",
    "print(len(train_demo.columns))\n",
    "print(len(numerical_columns) + len(categorical_columns)) # check if all included \n",
    "numerical_columns.remove(\"MRI_track_age_missing\")\n",
    "categorical_columns.remove(\"child_eth_missing\")\n",
    "print(numerical_columns)\n",
    "print(categorical_columns)"
   ]
  },
  {
   "cell_type": "code",
   "execution_count": 9,
   "id": "b0e95cbb",
   "metadata": {
    "scrolled": true
   },
   "outputs": [
    {
     "name": "stdout",
     "output_type": "stream",
     "text": [
      "Chi-Square Test between participant_id and MRI_track_age_missing:\n",
      "Chi-Square Stat: 1213.00, P-value: 0.48650\n",
      "Chi-Square Test between Basic_Demos_Study_Site and MRI_track_age_missing:\n",
      "Chi-Square Stat: 1.25, P-value: 0.74114\n",
      "Chi-Square Test between PreInt_Demos_Fam_Child_Ethnicity and MRI_track_age_missing:\n",
      "Chi-Square Stat: 2.24, P-value: 0.69161\n",
      "Chi-Square Test between PreInt_Demos_Fam_Child_Race and MRI_track_age_missing:\n",
      "Chi-Square Stat: 4.36, P-value: 0.88652\n",
      "Chi-Square Test between MRI_Track_Scan_Location and MRI_track_age_missing:\n",
      "Chi-Square Stat: 2.12, P-value: 0.71382\n",
      "Chi-Square Test between Barratt_Barratt_P1_Edu and MRI_track_age_missing:\n",
      "Chi-Square Stat: 3.32, P-value: 0.85348\n",
      "Chi-Square Test between Barratt_Barratt_P1_Occ and MRI_track_age_missing:\n",
      "Chi-Square Stat: 11.92, P-value: 0.21772\n",
      "Chi-Square Test between Barratt_Barratt_P2_Edu and MRI_track_age_missing:\n",
      "Chi-Square Stat: 2.96, P-value: 0.88875\n",
      "Chi-Square Test between Barratt_Barratt_P2_Occ and MRI_track_age_missing:\n",
      "Chi-Square Stat: 13.46, P-value: 0.14297\n"
     ]
    }
   ],
   "source": [
    "ut_stats.chi2_with_one_columns(categorical_columns, \"MRI_track_age_missing\", train_demo)\n",
    "# Nothing correlated "
   ]
  },
  {
   "cell_type": "code",
   "execution_count": 10,
   "id": "2eb07bc5",
   "metadata": {},
   "outputs": [
    {
     "name": "stdout",
     "output_type": "stream",
     "text": [
      "Chi-Square Test between participant_id and child_eth_missing:\n",
      "Chi-Square Stat: 1213.00, P-value: 0.48650\n",
      "Chi-Square Test between Basic_Demos_Study_Site and child_eth_missing:\n",
      "Chi-Square Stat: 0.52, P-value: 0.91469\n",
      "Chi-Square Test between PreInt_Demos_Fam_Child_Ethnicity and child_eth_missing:\n",
      "Chi-Square Stat: 1213.00, P-value: 0.00000\n",
      "Chi-Square Test between PreInt_Demos_Fam_Child_Race and child_eth_missing:\n",
      "Chi-Square Stat: 11.75, P-value: 0.22753\n",
      "Chi-Square Test between MRI_Track_Scan_Location and child_eth_missing:\n",
      "Chi-Square Stat: 14.28, P-value: 0.00645\n",
      "Chi-Square Test between Barratt_Barratt_P1_Edu and child_eth_missing:\n",
      "Chi-Square Stat: 9.74, P-value: 0.20392\n",
      "Chi-Square Test between Barratt_Barratt_P1_Occ and child_eth_missing:\n",
      "Chi-Square Stat: 12.18, P-value: 0.20342\n",
      "Chi-Square Test between Barratt_Barratt_P2_Edu and child_eth_missing:\n",
      "Chi-Square Stat: 8.34, P-value: 0.30337\n",
      "Chi-Square Test between Barratt_Barratt_P2_Occ and child_eth_missing:\n",
      "Chi-Square Stat: 12.74, P-value: 0.17476\n"
     ]
    }
   ],
   "source": [
    "ut_stats.chi2_with_one_columns(categorical_columns, \"child_eth_missing\", train_demo)\n",
    "# The missing values of PreInt_Demos_Fam_Child_Race is strongly correlated with MRI_Track_Scan_Location "
   ]
  },
  {
   "cell_type": "code",
   "execution_count": 11,
   "id": "491ede8b",
   "metadata": {},
   "outputs": [
    {
     "name": "stdout",
     "output_type": "stream",
     "text": [
      "p-value for u-test between Basic_Demos_Enroll_Year and MRI_track_age_missing is 0.5715224370356592 with u-stats 150498.5\n",
      "p-value for u-test between EHQ_EHQ_Total and MRI_track_age_missing is 0.8766271009404033 with u-stats 152678.5\n",
      "p-value for u-test between ColorVision_CV_Score and MRI_track_age_missing is 0.3070002041542754 with u-stats 157520.5\n",
      "p-value for u-test between APQ_P_APQ_P_CP and MRI_track_age_missing is 0.4150781857209046 with u-stats 149559.5\n",
      "p-value for u-test between APQ_P_APQ_P_ID and MRI_track_age_missing is 0.10157876729291905 with u-stats 144444.5\n",
      "p-value for u-test between APQ_P_APQ_P_INV and MRI_track_age_missing is 0.707169017803704 with u-stats 155630.5\n",
      "p-value for u-test between APQ_P_APQ_P_OPD and MRI_track_age_missing is 0.5537932544724726 with u-stats 156827.0\n",
      "p-value for u-test between APQ_P_APQ_P_PM and MRI_track_age_missing is 0.21686517380602588 with u-stats 146675.5\n",
      "p-value for u-test between APQ_P_APQ_P_PP and MRI_track_age_missing is 0.3470337474750621 with u-stats 158756.0\n",
      "p-value for u-test between SDQ_SDQ_Conduct_Problems and MRI_track_age_missing is 0.07818641277960557 with u-stats 143916.0\n",
      "p-value for u-test between SDQ_SDQ_Difficulties_Total and MRI_track_age_missing is 0.9717765125349651 with u-stats 153342.5\n",
      "p-value for u-test between SDQ_SDQ_Emotional_Problems and MRI_track_age_missing is 0.6285159559928076 with u-stats 156195.0\n",
      "p-value for u-test between SDQ_SDQ_Externalizing and MRI_track_age_missing is 0.5036921014599753 with u-stats 149821.5\n",
      "p-value for u-test between SDQ_SDQ_Generating_Impact and MRI_track_age_missing is 0.42315146749108257 with u-stats 157974.0\n",
      "p-value for u-test between SDQ_SDQ_Hyperactivity and MRI_track_age_missing is 0.6343161787408493 with u-stats 156178.0\n",
      "p-value for u-test between SDQ_SDQ_Internalizing and MRI_track_age_missing is 0.417484027452637 with u-stats 158039.5\n",
      "p-value for u-test between SDQ_SDQ_Peer_Problems and MRI_track_age_missing is 0.5900383550910351 with u-stats 156494.5\n",
      "p-value for u-test between SDQ_SDQ_Prosocial and MRI_track_age_missing is 0.500506303401761 with u-stats 157236.0\n",
      "p-value for t-test between MRI_Track_Age_at_Scan and MRI_track_age_missing is nan with t-stats nan\n"
     ]
    }
   ],
   "source": [
    "ut_stats.ttest_utest_with_one_column(numerical_columns, \"MRI_track_age_missing\", train_demo)\n",
    "# It seems that this is marginally correlated with SDQ_SDQ_Conduct_Problems "
   ]
  },
  {
   "cell_type": "code",
   "execution_count": 12,
   "id": "21914544",
   "metadata": {
    "scrolled": true
   },
   "outputs": [
    {
     "name": "stdout",
     "output_type": "stream",
     "text": [
      "p-value for u-test between Basic_Demos_Enroll_Year and child_eth_missing is 0.013841320862761559 with u-stats 3865.5\n",
      "p-value for u-test between EHQ_EHQ_Total and child_eth_missing is 0.24426404664347467 with u-stats 5270.5\n",
      "p-value for u-test between ColorVision_CV_Score and child_eth_missing is 0.6899575506518704 with u-stats 6288.0\n",
      "p-value for u-test between APQ_P_APQ_P_CP and child_eth_missing is 0.0607257134741712 with u-stats 8512.0\n",
      "p-value for u-test between APQ_P_APQ_P_ID and child_eth_missing is 0.7793125774892082 with u-stats 6287.5\n",
      "p-value for u-test between APQ_P_APQ_P_INV and child_eth_missing is 0.7899605516412364 with u-stats 6919.0\n",
      "p-value for u-test between APQ_P_APQ_P_OPD and child_eth_missing is 0.012251899256974544 with u-stats 9496.5\n",
      "p-value for u-test between APQ_P_APQ_P_PM and child_eth_missing is 0.6023075475342772 with u-stats 6009.5\n",
      "p-value for u-test between APQ_P_APQ_P_PP and child_eth_missing is 0.2724521671633804 with u-stats 7874.5\n",
      "p-value for u-test between SDQ_SDQ_Conduct_Problems and child_eth_missing is 0.18074395503994123 with u-stats 8129.0\n",
      "p-value for u-test between SDQ_SDQ_Difficulties_Total and child_eth_missing is 0.1363444369632067 with u-stats 8332.5\n",
      "p-value for u-test between SDQ_SDQ_Emotional_Problems and child_eth_missing is 0.4187823545000826 with u-stats 7532.0\n",
      "p-value for u-test between SDQ_SDQ_Externalizing and child_eth_missing is 0.2172705512932962 with u-stats 8035.0\n",
      "p-value for u-test between SDQ_SDQ_Generating_Impact and child_eth_missing is 0.5376164528233252 with u-stats 7319.5\n",
      "p-value for u-test between SDQ_SDQ_Hyperactivity and child_eth_missing is 0.3713783935895151 with u-stats 7640.0\n",
      "p-value for u-test between SDQ_SDQ_Internalizing and child_eth_missing is 0.12626424931683805 with u-stats 8372.0\n",
      "p-value for u-test between SDQ_SDQ_Peer_Problems and child_eth_missing is 0.07995860943046847 with u-stats 8603.5\n",
      "p-value for u-test between SDQ_SDQ_Prosocial and child_eth_missing is 0.0384240845477466 with u-stats 4254.0\n",
      "p-value for t-test between MRI_Track_Age_at_Scan and child_eth_missing is 0.174698484338594 with t-stats -1.3583946073219604\n"
     ]
    }
   ],
   "source": [
    "ut_stats.ttest_utest_with_one_column(numerical_columns, \"child_eth_missing\", train_demo)\n",
    "# PreInt_Demos_Fam_Child_Race is correlated with\n",
    "# 1) Basic_Demos_Enroll_Year\n",
    "# 2) APQ_P_APQ_P_CP (marginal)\n",
    "# 3) APQ_P_APQ_P_OPD\n",
    "# 4) SDQ_SDQ_Peer_Problems (marginal)"
   ]
  },
  {
   "cell_type": "markdown",
   "id": "41dd1f03",
   "metadata": {},
   "source": [
    "# Conclusion: \n",
    "Two columns with missing values (PreInt_Demos_Fam_Child_Ethnicity - 1% missing & MRI_Track_Age_at_Scan - 30 % missing). \n",
    "\n",
    "Notes: \n",
    "\n",
    "1) Missing values in MRI_Track_Age_at_Scan doesn't seem to correlate with any quantatitive and categorical variables stronglu, while there is a huge percentage missing.\n",
    "    \n",
    "2) Missing values in PreInt_Demos_Fam_Child_Ethnicity only accounts for 1% but it has high correlation with several quantatitive and categorical variables. \n",
    "    \n",
    "Therefore, *imputation of missing data is important*. \n",
    "\n",
    "For PreInt_Demos_Fam_Child_Ethnicity --> use KNN to impute. \n",
    "\n",
    "For MRI_Track_Age_at_Scan --> Not sure. Could use some cool approaches but let's proceed with KNN first to see the performance. \n",
    "\n",
    "Also, the test dataset has a lot more columns with missing values. Need to think of this later. \n"
   ]
  }
 ],
 "metadata": {
  "kernelspec": {
   "display_name": "Python 3 (ipykernel)",
   "language": "python",
   "name": "python3"
  },
  "language_info": {
   "codemirror_mode": {
    "name": "ipython",
    "version": 3
   },
   "file_extension": ".py",
   "mimetype": "text/x-python",
   "name": "python",
   "nbconvert_exporter": "python",
   "pygments_lexer": "ipython3",
   "version": "3.9.18"
  }
 },
 "nbformat": 4,
 "nbformat_minor": 5
}

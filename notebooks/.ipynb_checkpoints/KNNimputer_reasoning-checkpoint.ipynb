{
 "cells": [
  {
   "cell_type": "code",
   "execution_count": 5,
   "id": "d388ced7",
   "metadata": {},
   "outputs": [],
   "source": [
    "import os \n",
    "import sys\n",
    "import pandas as pd\n",
    "import numpy as np\n",
    "from sklearn.impute import KNNImputer\n",
    "from sklearn.preprocessing import OneHotEncoder, StandardScaler\n",
    "\n",
    "rootfolder = \"/Users/bingli/Documents/GitHub/fMRI-AHDH\" # rootpath --> top of git repo\n",
    "sys.path.append(os.path.join(rootfolder))\n",
    "\n",
    "from src.data.data_loader import load_data\n",
    "import src.utility.ut_general as ut_general\n",
    "import src.utility.ut_stats as ut_stats \n",
    "\n",
    "# rootfolder = Path.cwd() \n",
    "datafolder = os.path.join(rootfolder, \"data\")\n"
   ]
  },
  {
   "cell_type": "code",
   "execution_count": 7,
   "id": "525286eb",
   "metadata": {},
   "outputs": [],
   "source": [
    "# Load test data: \n",
    "test_data_dic = load_data(datafolder, filetype = \"test\")\n",
    "test_quant = test_data_dic[\"test_quant\"]\n",
    "test_cate = test_data_dic[\"test_cate\"]\n",
    "test_fmri = test_data_dic[\"test_fmri\"]"
   ]
  },
  {
   "cell_type": "code",
   "execution_count": 9,
   "id": "a6f15237",
   "metadata": {},
   "outputs": [],
   "source": [
    "# Load trainning data: \n",
    "train_data_dic = load_data(datafolder, filetype = \"train\") \n",
    "train_quant = train_data_dic[\"train_quant\"]\n",
    "train_outcome = train_data_dic[\"train_outcome\"]\n",
    "train_cate = train_data_dic[\"train_cate\"]\n",
    "train_fmri = train_data_dic[\"train_fmri\"] "
   ]
  },
  {
   "cell_type": "code",
   "execution_count": 12,
   "id": "fac2b932",
   "metadata": {},
   "outputs": [
    {
     "name": "stdout",
     "output_type": "stream",
     "text": [
      "Index(['participant_id', 'Basic_Demos_Enroll_Year', 'Basic_Demos_Study_Site',\n",
      "       'PreInt_Demos_Fam_Child_Ethnicity', 'PreInt_Demos_Fam_Child_Race',\n",
      "       'MRI_Track_Scan_Location', 'Barratt_Barratt_P1_Edu',\n",
      "       'Barratt_Barratt_P1_Occ', 'Barratt_Barratt_P2_Edu',\n",
      "       'Barratt_Barratt_P2_Occ'],\n",
      "      dtype='object')\n",
      "Index(['participant_id', 'EHQ_EHQ_Total', 'ColorVision_CV_Score',\n",
      "       'APQ_P_APQ_P_CP', 'APQ_P_APQ_P_ID', 'APQ_P_APQ_P_INV',\n",
      "       'APQ_P_APQ_P_OPD', 'APQ_P_APQ_P_PM', 'APQ_P_APQ_P_PP',\n",
      "       'SDQ_SDQ_Conduct_Problems', 'SDQ_SDQ_Difficulties_Total',\n",
      "       'SDQ_SDQ_Emotional_Problems', 'SDQ_SDQ_Externalizing',\n",
      "       'SDQ_SDQ_Generating_Impact', 'SDQ_SDQ_Hyperactivity',\n",
      "       'SDQ_SDQ_Internalizing', 'SDQ_SDQ_Peer_Problems', 'SDQ_SDQ_Prosocial',\n",
      "       'MRI_Track_Age_at_Scan'],\n",
      "      dtype='object')\n"
     ]
    }
   ],
   "source": [
    "cate_cols = train_cate.columns \n",
    "print(cate_cols) \n",
    "quant_col = train_quant.columns\n",
    "print(quant_col)"
   ]
  },
  {
   "cell_type": "code",
   "execution_count": 15,
   "id": "4164b4cd",
   "metadata": {},
   "outputs": [
    {
     "data": {
      "text/plain": [
       "{2015, 2016, 2017, 2018, 2019, 2020}"
      ]
     },
     "execution_count": 15,
     "metadata": {},
     "output_type": "execute_result"
    }
   ],
   "source": [
    "set(train_cate['Basic_Demos_Enroll_Year']) # from 2015 to 2020 \n",
    "# Should this be treated as quantatitive or ordinal?"
   ]
  },
  {
   "cell_type": "code",
   "execution_count": 17,
   "id": "b4c22f36",
   "metadata": {},
   "outputs": [
    {
     "name": "stdout",
     "output_type": "stream",
     "text": [
      "Index(['EHQ_EHQ_Total', 'ColorVision_CV_Score', 'APQ_P_APQ_P_CP',\n",
      "       'APQ_P_APQ_P_ID', 'APQ_P_APQ_P_INV', 'APQ_P_APQ_P_OPD',\n",
      "       'APQ_P_APQ_P_PM', 'APQ_P_APQ_P_PP', 'SDQ_SDQ_Conduct_Problems',\n",
      "       'SDQ_SDQ_Difficulties_Total', 'SDQ_SDQ_Emotional_Problems',\n",
      "       'SDQ_SDQ_Externalizing', 'SDQ_SDQ_Generating_Impact',\n",
      "       'SDQ_SDQ_Hyperactivity', 'SDQ_SDQ_Internalizing',\n",
      "       'SDQ_SDQ_Peer_Problems', 'SDQ_SDQ_Prosocial', 'MRI_Track_Age_at_Scan'],\n",
      "      dtype='object')\n"
     ]
    }
   ],
   "source": [
    "ordinal_var = ['Barratt_Barratt_P1_Edu', 'Barratt_Barratt_P1_Occ', \n",
    "               'Barratt_Barratt_P2_Edu', 'Barratt_Barratt_P2_Occ',\n",
    "              'Basic_Demos_Enroll_Year']\n",
    "categ_var = ['Basic_Demos_Study_Site', 'PreInt_Demos_Fam_Child_Ethnicity',\n",
    "             'PreInt_Demos_Fam_Child_Race', 'MRI_Track_Scan_Location'] \n",
    "quant_var = quant_col[1:]\n",
    "print(quant_var)"
   ]
  },
  {
   "cell_type": "markdown",
   "id": "1c8f20f8",
   "metadata": {},
   "source": [
    "Something bothered me is how to encode ordinal data. Based on https://scikit-learn.org/stable/modules/generated/sklearn.preprocessing.OrdinalEncoder.html Two types of encoders -- one-hot encoder and target encoder. The next step is to check which kind of encoder I should use for the ordinal data. "
   ]
  },
  {
   "cell_type": "code",
   "execution_count": 23,
   "id": "16a611ea",
   "metadata": {},
   "outputs": [
    {
     "ename": "NameError",
     "evalue": "name 'lengthg' is not defined",
     "output_type": "error",
     "traceback": [
      "\u001b[0;31m---------------------------------------------------------------------------\u001b[0m",
      "\u001b[0;31mNameError\u001b[0m                                 Traceback (most recent call last)",
      "Cell \u001b[0;32mIn[23], line 1\u001b[0m\n\u001b[0;32m----> 1\u001b[0m \u001b[43mprint_levels_for_columns\u001b[49m\u001b[43m(\u001b[49m\u001b[43mordinal_var\u001b[49m\u001b[43m,\u001b[49m\u001b[43m \u001b[49m\u001b[43mtrain_cate\u001b[49m\u001b[43m)\u001b[49m\n\u001b[1;32m      3\u001b[0m \u001b[38;5;28;01mdef\u001b[39;00m \u001b[38;5;21mprint_levels_for_columns\u001b[39m(col_list, df):\n\u001b[1;32m      4\u001b[0m     \u001b[38;5;28;01mfor\u001b[39;00m col \u001b[38;5;129;01min\u001b[39;00m col_list: \n",
      "Cell \u001b[0;32mIn[21], line 6\u001b[0m, in \u001b[0;36mprint_levels_for_columns\u001b[0;34m(col_list, df)\u001b[0m\n\u001b[1;32m      4\u001b[0m \u001b[38;5;28;01mfor\u001b[39;00m col \u001b[38;5;129;01min\u001b[39;00m col_list: \n\u001b[1;32m      5\u001b[0m     s \u001b[38;5;241m=\u001b[39m \u001b[38;5;28mset\u001b[39m(df[col])\n\u001b[0;32m----> 6\u001b[0m     num \u001b[38;5;241m=\u001b[39m \u001b[43mlengthg\u001b[49m(s)\n\u001b[1;32m      7\u001b[0m     \u001b[38;5;28mprint\u001b[39m(\u001b[38;5;124mf\u001b[39m\u001b[38;5;124m\"\u001b[39m\u001b[38;5;124mThere are \u001b[39m\u001b[38;5;132;01m{\u001b[39;00mnum\u001b[38;5;132;01m}\u001b[39;00m\u001b[38;5;124m levels in \u001b[39m\u001b[38;5;132;01m{\u001b[39;00mcol\u001b[38;5;132;01m}\u001b[39;00m\u001b[38;5;124m, including:\u001b[39m\u001b[38;5;124m\"\u001b[39m)\n\u001b[1;32m      8\u001b[0m     \u001b[38;5;28mprint\u001b[39m(s)\n",
      "\u001b[0;31mNameError\u001b[0m: name 'lengthg' is not defined"
     ]
    }
   ],
   "source": [
    "print_levels_for_columns(ordinal_var, train_cate)\n",
    "\n",
    "def print_levels_for_columns(col_list, df):\n",
    "    for col in col_list: \n",
    "        s = set(df[col])\n",
    "        num = length(s)\n",
    "        print(f\"There are {num} levels in {col}, including:\")\n",
    "        print(s) "
   ]
  }
 ],
 "metadata": {
  "kernelspec": {
   "display_name": "Python 3 (ipykernel)",
   "language": "python",
   "name": "python3"
  },
  "language_info": {
   "codemirror_mode": {
    "name": "ipython",
    "version": 3
   },
   "file_extension": ".py",
   "mimetype": "text/x-python",
   "name": "python",
   "nbconvert_exporter": "python",
   "pygments_lexer": "ipython3",
   "version": "3.9.18"
  }
 },
 "nbformat": 4,
 "nbformat_minor": 5
}
